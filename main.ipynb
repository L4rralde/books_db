{
 "cells": [
  {
   "cell_type": "code",
   "execution_count": 1,
   "id": "ffb3d615-0e72-464b-871a-d9ffa6f9f080",
   "metadata": {},
   "outputs": [],
   "source": [
    "import os\n",
    "\n",
    "ignored_paths = [\"output\", \"plots\", \"tmp\"]\n",
    "for directory in ignored_paths:\n",
    "    if not os.path.exists(directory):\n",
    "        os.makedirs(directory)"
   ]
  },
  {
   "cell_type": "code",
   "execution_count": 2,
   "id": "66d0fe81-4327-425b-b0b8-7ee6bec4a8a7",
   "metadata": {},
   "outputs": [],
   "source": [
    "!g++ include/database/database.cpp src/main.cpp -o output/main.o -lm -Wall -Wextra"
   ]
  },
  {
   "cell_type": "code",
   "execution_count": 4,
   "id": "1848bd42-86e2-48a4-9c7f-5c9288a499c9",
   "metadata": {},
   "outputs": [],
   "source": [
    "!./output/main.o data/libros2022.txt data/libros2023.txt > results.log"
   ]
  },
  {
   "cell_type": "code",
   "execution_count": null,
   "id": "3ab5f7b9-b807-4b62-8ae0-29162f4df190",
   "metadata": {},
   "outputs": [],
   "source": []
  }
 ],
 "metadata": {
  "kernelspec": {
   "display_name": "Python 3 (ipykernel)",
   "language": "python",
   "name": "python3"
  },
  "language_info": {
   "codemirror_mode": {
    "name": "ipython",
    "version": 3
   },
   "file_extension": ".py",
   "mimetype": "text/x-python",
   "name": "python",
   "nbconvert_exporter": "python",
   "pygments_lexer": "ipython3",
   "version": "3.12.7"
  }
 },
 "nbformat": 4,
 "nbformat_minor": 5
}
